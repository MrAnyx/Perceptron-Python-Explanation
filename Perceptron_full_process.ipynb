{
 "cells": [
  {
   "cell_type": "code",
   "execution_count": 1,
   "metadata": {},
   "outputs": [],
   "source": [
    "import random\n",
    "import math\n",
    "import numpy as np\n",
    "import matplotlib.pyplot as plt"
   ]
  },
  {
   "cell_type": "code",
   "execution_count": 2,
   "metadata": {},
   "outputs": [],
   "source": [
    "inputs_pre = [[0, 0], [0, 1], [1, 0], [1, 1]]\n",
    "outputs = [0, 1, 1, 1]"
   ]
  },
  {
   "cell_type": "markdown",
   "metadata": {},
   "source": [
    "Ici, nos inputs correspondent à un couple de bits (0 ou 1) et les outputs représentent l'application de la fonction binaire OR sur chaque couple de notre input"
   ]
  },
  {
   "cell_type": "markdown",
   "metadata": {},
   "source": [
    "Sachant que chaque couple de bits de notre input comporte deux éléments que l'on appellera A et B, on peut en déduire que notre perceptron aura 2 entrées et donc deux poids à déterminer.\n",
    "\n",
    "Le perceptron dépend également d'une fonction d'activation qui est, dans notre cas, la fonction Heaviside dont la représentation est la suivante"
   ]
  },
  {
   "cell_type": "code",
   "execution_count": 3,
   "metadata": {},
   "outputs": [],
   "source": [
    "def activation(x):\n",
    "   return 0 if x < 0 else 1"
   ]
  },
  {
   "cell_type": "code",
   "execution_count": 4,
   "metadata": {},
   "outputs": [
    {
     "data": {
      "text/plain": [
       "[<matplotlib.lines.Line2D at 0x1a450963fa0>]"
      ]
     },
     "execution_count": 4,
     "metadata": {},
     "output_type": "execute_result"
    },
    {
     "data": {
      "image/png": "[encoded data removed]",
      "text/plain": [
       "<Figure size 432x288 with 1 Axes>"
      ]
     },
     "metadata": {
      "needs_background": "light"
     },
     "output_type": "display_data"
    }
   ],
   "source": [
    "inputs_activation = [x for x in np.arange(-10, 10, 0.1)]\n",
    "outputs_activation = list(map(activation, inputs_activation))\n",
    "\n",
    "plt.plot(inputs_activation, outputs_activation)"
   ]
  },
  {
   "cell_type": "code",
   "execution_count": 5,
   "metadata": {},
   "outputs": [],
   "source": [
    "nb_features = len(inputs_pre[0])\n",
    "bias = 0\n",
    "training_factor = 0.01\n",
    "nb_iter = 2_000\n",
    "weights = [0 for x in range(nb_features)]"
   ]
  },
  {
   "cell_type": "markdown",
   "metadata": {},
   "source": [
    "Nous allons maintenant devoir modifier notre liste de poids et nos inputs pour prendre en compte le biais de la fonction d'activation.\n",
    "Notre fonction d'activation peut être représentée de la manière suivante : \n",
    "Si la somme du produit des poids avec les input est supérieure au biais, alors notre neurone s'active. On peut donc le matérialiser de la façon suivante :\n",
    "`x1*w1 + x2*w2 >= biais` ce qui est équivalent à `1*(-biais) + x1*w1 + x2*w2 >= 0`. On se retrouve donc avec un input ainsi qu'un poids en plus."
   ]
  },
  {
   "cell_type": "code",
   "execution_count": 6,
   "metadata": {},
   "outputs": [],
   "source": [
    "inputs = [[1, a, b] for a, b in inputs_pre]\n",
    "weights.insert(0, -bias)"
   ]
  },
  {
   "cell_type": "code",
   "execution_count": 7,
   "metadata": {},
   "outputs": [
    {
     "name": "stdout",
     "output_type": "stream",
     "text": [
      "[[1, 0, 0], [1, 0, 1], [1, 1, 0], [1, 1, 1]]\n",
      "[0, 0, 0]\n"
     ]
    }
   ],
   "source": [
    "print(inputs)\n",
    "print(weights)"
   ]
  },
  {
   "cell_type": "markdown",
   "metadata": {},
   "source": [
    "Essayons maintenant de voir ce que notre neurone retourne lorsque nous lui appliquons l'input [0, 1] sans l'avoir entraîné, c'est-à-dire, sans avoir modifié nos poids de manière à ce que notre neurone soit entraîné à reconnaître la logique."
   ]
  },
  {
   "cell_type": "code",
   "execution_count": 8,
   "metadata": {},
   "outputs": [],
   "source": [
    "def guess (input, weights):\n",
    "   input.insert(0, 1)\n",
    "   sum_val = np.sum(np.multiply(input, weights))\n",
    "   return activation(sum_val)"
   ]
  },
  {
   "cell_type": "code",
   "execution_count": 9,
   "metadata": {},
   "outputs": [
    {
     "name": "stdout",
     "output_type": "stream",
     "text": [
      "1\n"
     ]
    }
   ],
   "source": [
    "print(guess([0, 1], weights))"
   ]
  },
  {
   "cell_type": "markdown",
   "metadata": {},
   "source": [
    "Notre neurone retourne la valeur `1` ce qui correspond à l'output de la fonction OR sur les bits 0 et 1. Néanmoins, cela ne veut pas dire que notre neurone est entraïné, car si l'on teste notre neurone avec l'input 0 et 0, le neurone est supposé retourner 0. Voyons ce qu'il nous retourne."
   ]
  },
  {
   "cell_type": "code",
   "execution_count": 10,
   "metadata": {},
   "outputs": [
    {
     "name": "stdout",
     "output_type": "stream",
     "text": [
      "1\n"
     ]
    }
   ],
   "source": [
    "print(guess([0, 0], weights))"
   ]
  },
  {
   "cell_type": "markdown",
   "metadata": {},
   "source": [
    "On voit que la valeur retournée cette fois-ci ne correspond pas à la valeur attendue. Nous allons donc devoir entaïner notre neurone pour que les valeurs des poids permettent de faire correspondre nos inputs et nos outputs.\n",
    "\n",
    "Pour ce faire, nous allons devoir appliquer la formule suivante sur les valeurs de nos poids : `weight_new = weight_old + training_factor * (output_attendu - output_obtenu) * input`"
   ]
  },
  {
   "cell_type": "code",
   "execution_count": 11,
   "metadata": {},
   "outputs": [],
   "source": [
    "for k in range(nb_iter):\n",
    "   output_list = []\n",
    "   for i in range(len(inputs)):\n",
    "      sum_val = np.sum(np.multiply(inputs[i], weights))\n",
    "      output_tmp = activation(sum_val)\n",
    "\n",
    "      for j in range(nb_features + 1):\n",
    "         weights[j] += (\n",
    "            training_factor\n",
    "            * (outputs[i] - output_tmp)\n",
    "            * inputs[i][j]\n",
    "         )"
   ]
  },
  {
   "cell_type": "code",
   "execution_count": 12,
   "metadata": {},
   "outputs": [
    {
     "name": "stdout",
     "output_type": "stream",
     "text": [
      "[-0.01, 0.01, 0.01]\n"
     ]
    }
   ],
   "source": [
    "print(weights)"
   ]
  },
  {
   "cell_type": "code",
   "execution_count": 14,
   "metadata": {},
   "outputs": [
    {
     "name": "stdout",
     "output_type": "stream",
     "text": [
      "0 OR 0 -> 0\n",
      "0 OR 1 -> 1\n",
      "1 OR 0 -> 1\n",
      "1 OR 1 -> 1\n"
     ]
    }
   ],
   "source": [
    "print(f\"0 OR 0 -> {guess([0, 0], weights)}\")\n",
    "print(f\"0 OR 1 -> {guess([0, 1], weights)}\")\n",
    "print(f\"1 OR 0 -> {guess([1, 0], weights)}\")\n",
    "print(f\"1 OR 1 -> {guess([1, 1], weights)}\")"
   ]
  },
  {
   "cell_type": "markdown",
   "metadata": {},
   "source": [
    "Après l'entraînement de notre neurone, on remarque bien que les résultats retournés correspondent à nos attentes."
   ]
  }
 ],
 "metadata": {
  "interpreter": {
   "hash": "2893b4f6329644dcc5fbc6c44db0bdd3116d568eb12d76f7a2ce41daa65cea55"
  },
  "kernelspec": {
   "display_name": "Python 3.9.7 64-bit ('venv': venv)",
   "language": "python",
   "name": "python3"
  },
  "language_info": {
   "codemirror_mode": {
    "name": "ipython",
    "version": 3
   },
   "file_extension": ".py",
   "mimetype": "text/x-python",
   "name": "python",
   "nbconvert_exporter": "python",
   "pygments_lexer": "ipython3",
   "version": "3.9.7"
  },
  "orig_nbformat": 4
 },
 "nbformat": 4,
 "nbformat_minor": 2
}
